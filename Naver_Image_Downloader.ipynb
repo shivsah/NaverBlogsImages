{
  "nbformat": 4,
  "nbformat_minor": 0,
  "metadata": {
    "colab": {
      "name": "Naver Image Downloader.ipynb",
      "provenance": [],
      "collapsed_sections": [],
      "toc_visible": true,
      "include_colab_link": true
    },
    "kernelspec": {
      "name": "python3",
      "display_name": "Python 3"
    }
  },
  "cells": [
    {
      "cell_type": "markdown",
      "metadata": {
        "id": "view-in-github",
        "colab_type": "text"
      },
      "source": [
        "<a href=\"https://colab.research.google.com/github/shivsah/NaverBlogsImages/blob/master/Naver_Image_Downloader.ipynb\" target=\"_parent\"><img src=\"https://colab.research.google.com/assets/colab-badge.svg\" alt=\"Open In Colab\"/></a>"
      ]
    },
    {
      "cell_type": "markdown",
      "metadata": {
        "id": "MAXi8uOoOHVL",
        "colab_type": "text"
      },
      "source": [
        "### **Enter the Naver URL in the box below**\n",
        "\n",
        "\n",
        "You can either download the file directly to your system (Beta) or download it directly to your Google Drive.\n"
      ]
    },
    {
      "cell_type": "code",
      "metadata": {
        "id": "yUuplD4zNTiW",
        "colab_type": "code",
        "cellView": "form",
        "colab": {}
      },
      "source": [
        "#@title Press the play button next to this bar. Then enter the url in the prompt. -- This step is important\n",
        "URL = \"\" #@param {type:\"string\"}\n",
        "\n",
        "!rm -rf sample_data\n",
        "!rm -rf url_here.txt\n",
        "\n",
        "import requests\n",
        "import re\n",
        "import os\n",
        "import sys\n",
        "\n",
        "thefile = requests.get(URL)\n",
        "\n",
        "with open(\"input_file.txt\",\"w\") as outp1:\n",
        "  outp1.write(thefile.text)\n",
        "\n",
        "with open(\"input_file.txt\",encoding=\"utf-8\") as infile, open(\"test.txt\",\"w\") as outfile:\n",
        "  copy = False\n",
        "  for line in infile:\n",
        "    if line.strip()==\"<!-- SE_DOC_CONTENTS_START -->\":\n",
        "      copy = True\n",
        "      continue\n",
        "    elif line.strip()==\"<!-- SE_DOC_CONTENTS_END -->\":\n",
        "      copy = False\n",
        "      continue\n",
        "    elif copy:\n",
        "      outfile.write(line)\n",
        "      \n",
        "      \n",
        "def fetcher():\n",
        "  with open(\"test.txt\", \"r\", encoding=\"utf-8\") as fobj:\n",
        "    text = fobj.read()\n",
        "    matches = re.findall(r'https://post-phinf\\.pstatic\\.net[^\"&? ]+', text)\n",
        "    out_str = \"\\n\".join(matches)\n",
        "  with open(\"output.txt\", \"w\") as outp:\n",
        "    outp.write(out_str)\n",
        "  rem_duplicate()\n",
        "\n",
        "  \n",
        "def rem_duplicate():\n",
        "  f=0\n",
        "  while f < 3 :\n",
        "    lines_seen = set() # holds lines already seen\n",
        "    outfile = open('links.txt', \"w\")\n",
        "    infile = open('output.txt', \"r\")\n",
        "    for line in infile:\n",
        "      if line not in lines_seen: # not a duplicate\n",
        "        outfile.write(line)\n",
        "        lines_seen.add(line)\n",
        "    outfile.close()\n",
        "    infile.close()\n",
        "    f=f+1\n",
        "  os.rename('links.txt','url_here.txt')\n",
        "  os.remove(\"output.txt\")\n",
        "  os.remove(\"test.txt\")\n",
        "  os.remove(\"input_file.txt\")\n",
        "\n",
        "fetcher()\n"
      ],
      "execution_count": 0,
      "outputs": []
    },
    {
      "cell_type": "code",
      "metadata": {
        "id": "IuFby0HAiMUc",
        "colab_type": "code",
        "cellView": "form",
        "colab": {}
      },
      "source": [
        "#@title Move to Google Drive\n",
        "import os\n",
        "from google.colab import drive\n",
        "drive.mount('/content/drive')\n",
        "!wget -i \"url_here.txt\" -P /content/NAVER/\n",
        "\n",
        "!mv -R /content/TWICE/ /content/drive/\"My Drive\"/\"NAVER DOWNLOAD\"/"
      ],
      "execution_count": 0,
      "outputs": []
    },
    {
      "cell_type": "markdown",
      "metadata": {
        "id": "yGnxru0TPIMO",
        "colab_type": "text"
      },
      "source": [
        "## DOWNLOAD THE FILES DIRECTLY TO YOUR SYSTEM"
      ]
    },
    {
      "cell_type": "code",
      "metadata": {
        "id": "HEeHggMdPUY-",
        "colab_type": "code",
        "cellView": "form",
        "colab": {}
      },
      "source": [
        "#@title Still Work in Progress - unstable\n",
        "!wget -i \"url_here.txt\" -P /content/NAVER/\n",
        "!zip -r -0 NAVER_DOWNLOAD.zip /content/NAVER\n",
        "\n",
        "from google.colab import files\n",
        "files.download(\"NAVER_DOWNLOAD.zip\")"
      ],
      "execution_count": 0,
      "outputs": []
    }
  ]
}